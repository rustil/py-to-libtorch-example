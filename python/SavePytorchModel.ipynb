{
 "cells": [
  {
   "cell_type": "markdown",
   "metadata": {},
   "source": [
    "See:\n",
    "    https://pytorch.org/tutorials/beginner/Intro_to_TorchScript_tutorial.html\n",
    "\n",
    "    https://pytorch.org/docs/stable/jit.html"
   ]
  },
  {
   "cell_type": "code",
   "execution_count": null,
   "metadata": {},
   "outputs": [],
   "source": [
    "import torch\n",
    "import torch.nn as nn\n",
    "import numpy as np\n",
    "from collections import OrderedDict"
   ]
  },
  {
   "cell_type": "code",
   "execution_count": 3,
   "metadata": {},
   "outputs": [],
   "source": [
    "from dcgan3D import DCGAN_G"
   ]
  },
  {
   "cell_type": "markdown",
   "metadata": {},
   "source": [
    "## Just save model w/o checkpoint"
   ]
  },
  {
   "cell_type": "markdown",
   "metadata": {},
   "source": [
    "The generator needs two parameters, `ngf` and `latent_dim`. Following the setup for https://github.com/FLC-QU-hep/getting_high, they are set to:"
   ]
  },
  {
   "cell_type": "code",
   "execution_count": 4,
   "metadata": {},
   "outputs": [],
   "source": [
    "ngf = 32\n",
    "latent_dim = 100"
   ]
  },
  {
   "cell_type": "code",
   "execution_count": 5,
   "metadata": {},
   "outputs": [],
   "source": [
    "generator = DCGAN_G(ngf, latent_dim)"
   ]
  },
  {
   "cell_type": "code",
   "execution_count": 9,
   "metadata": {},
   "outputs": [
    {
     "name": "stdout",
     "output_type": "stream",
     "text": [
      "RecursiveScriptModule(\n",
      "  original_name=DCGAN_G\n",
      "  (conv1_1): RecursiveScriptModule(original_name=ConvTranspose3d)\n",
      "  (conv1_100): RecursiveScriptModule(original_name=ConvTranspose3d)\n",
      "  (main_conv): RecursiveScriptModule(\n",
      "    original_name=Sequential\n",
      "    (0): RecursiveScriptModule(original_name=ConvTranspose3d)\n",
      "    (1): RecursiveScriptModule(original_name=LayerNorm)\n",
      "    (2): RecursiveScriptModule(original_name=ReLU)\n",
      "    (3): RecursiveScriptModule(original_name=ConvTranspose3d)\n",
      "    (4): RecursiveScriptModule(original_name=LayerNorm)\n",
      "    (5): RecursiveScriptModule(original_name=ReLU)\n",
      "    (6): RecursiveScriptModule(original_name=ConvTranspose3d)\n",
      "    (7): RecursiveScriptModule(original_name=LayerNorm)\n",
      "    (8): RecursiveScriptModule(original_name=ReLU)\n",
      "    (9): RecursiveScriptModule(original_name=ConvTranspose3d)\n",
      "    (10): RecursiveScriptModule(original_name=ReLU)\n",
      "  )\n",
      ")\n"
     ]
    }
   ],
   "source": [
    "script_model = torch.jit.script(generator)\n",
    "print(script_model)"
   ]
  },
  {
   "cell_type": "markdown",
   "metadata": {},
   "source": [
    "This yields us a TorchScript Model object that contains the structure of the model that would be readable both by C++ and by Python. So we can save the model."
   ]
  },
  {
   "cell_type": "code",
   "execution_count": 10,
   "metadata": {},
   "outputs": [],
   "source": [
    "script_model.save(\"./gan_wo_checkpoint.pt\")"
   ]
  },
  {
   "cell_type": "markdown",
   "metadata": {},
   "source": [
    "We even have access to a more code-like version of the forward function defined for our dcgan"
   ]
  },
  {
   "cell_type": "code",
   "execution_count": 12,
   "metadata": {},
   "outputs": [
    {
     "name": "stdout",
     "output_type": "stream",
     "text": [
      "def forward(self,\n",
      "    noise: Tensor,\n",
      "    energy: Tensor) -> Tensor:\n",
      "  energy_trans = (self.conv1_1).forward(energy, None, )\n",
      "  noise_trans = (self.conv1_100).forward(noise, None, )\n",
      "  input = torch.cat([energy_trans, noise_trans], 1)\n",
      "  x = (self.main_conv).forward(input, )\n",
      "  return torch.view(x, [-1, 30, 30, 30])\n",
      "\n"
     ]
    }
   ],
   "source": [
    "print(script_model.code)"
   ]
  }
 ],
 "metadata": {
  "kernelspec": {
   "display_name": "torch",
   "language": "python",
   "name": "torch"
  },
  "language_info": {
   "codemirror_mode": {
    "name": "ipython",
    "version": 3
   },
   "file_extension": ".py",
   "mimetype": "text/x-python",
   "name": "python",
   "nbconvert_exporter": "python",
   "pygments_lexer": "ipython3",
   "version": "3.7.9"
  }
 },
 "nbformat": 4,
 "nbformat_minor": 4
}
